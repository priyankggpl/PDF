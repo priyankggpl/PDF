{
 "cells": [
  {
   "cell_type": "code",
   "execution_count": 1,
   "id": "7c99a3d3-6f6c-436c-b631-b39efc02371e",
   "metadata": {},
   "outputs": [
    {
     "name": "stdout",
     "output_type": "stream",
     "text": [
      "{1: [0, 0], 4: [0, 1], 2: [1, 0], 3: [1, 1]}\n",
      "{'R0': 1, 'C0': 1, 'R1': 1, 'C1': 1}\n"
     ]
    }
   ],
   "source": [
    "mat = [[1,4],[2,3]]\n",
    "dic1 = {}\n",
    "for i in range(len(mat)):\n",
    "    for j in range(len(mat[i])):\n",
    "        dic1[mat[i][j]] = [i,j]\n",
    "print(dic1)        \n",
    "dic2 = {}\n",
    "arr = [1,3,4,2]\n",
    "for idx, i in enumerate(arr):\n",
    "    if i in dic1.keys() and i not in dic2.keys():\n",
    "        dic2[f\"R{dic1[i][0]}\"] = 1\n",
    "        dic2[f\"C{dic1[i][1]}\"] = 1\n",
    "    elif i in dic1.keys():\n",
    "        dic2[f\"R{dic1[i][0]}\"] += 1\n",
    "        dic2[f\"C{dic1[i][1]}\"] += 1\n",
    "    if dic2[f\"R{dic1[i][0]}\"] == len(mat) or dic2[f\"C{dic1[i][1]}\"] == len(mat[1]):\n",
    "        print(idx)\n",
    "        break\n",
    "print(dic2)"
   ]
  },
  {
   "cell_type": "code",
   "execution_count": null,
   "id": "e5c78be2-e895-4726-9682-15a694445cf5",
   "metadata": {},
   "outputs": [],
   "source": []
  }
 ],
 "metadata": {
  "kernelspec": {
   "display_name": "Python 3 (ipykernel)",
   "language": "python",
   "name": "python3"
  },
  "language_info": {
   "codemirror_mode": {
    "name": "ipython",
    "version": 3
   },
   "file_extension": ".py",
   "mimetype": "text/x-python",
   "name": "python",
   "nbconvert_exporter": "python",
   "pygments_lexer": "ipython3",
   "version": "3.11.2"
  }
 },
 "nbformat": 4,
 "nbformat_minor": 5
}
